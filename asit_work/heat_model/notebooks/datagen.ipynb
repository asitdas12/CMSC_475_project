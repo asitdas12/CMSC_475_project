{
 "cells": [
  {
   "cell_type": "markdown",
   "id": "cee7fe44",
   "metadata": {},
   "source": [
    "Import Python Libraries"
   ]
  },
  {
   "cell_type": "code",
   "execution_count": null,
   "id": "a689b521",
   "metadata": {},
   "outputs": [],
   "source": [
    "import os\n",
    "import numpy as np\n",
    "import torch\n",
    "from scipy.ndimage import gaussian_filter\n",
    "from tqdm import tqdm\n",
    "\n",
    "os.chdir(os.path.dirname(__file__))"
   ]
  },
  {
   "cell_type": "markdown",
   "id": "07ba474a",
   "metadata": {},
   "source": [
    "Generate Dataset and Model Heat Equation (Traditional)"
   ]
  },
  {
   "cell_type": "markdown",
   "id": "88519ad5",
   "metadata": {},
   "source": [
    "Generate Random Gaussian Sum Data (Blobs)"
   ]
  },
  {
   "cell_type": "code",
   "execution_count": null,
   "id": "132857d5",
   "metadata": {},
   "outputs": [],
   "source": [
    "def random_gaussian_sum(nx, ny, num_blobs=3):\n",
    "    x, y = np.linspace(0, 1, nx), np.linspace(0, 1, ny)\n",
    "    X, Y = np.meshgrid(x, y, indexing='ij')\n",
    "    u0 = np.zeros((nx, ny))\n",
    "    for _ in range(np.random.randint(1, num_blobs + 1)):\n",
    "        xc, yc = np.random.rand(2) * 0.8 + 0.1\n",
    "        sigma = np.random.rand() * 0.05 + 0.02\n",
    "        amp = np.random.rand() * 2.5\n",
    "        u0 += amp * np.exp(-((X - xc)**2 + (Y - yc)**2) / (2 * sigma**2))\n",
    "    return u0"
   ]
  },
  {
   "cell_type": "markdown",
   "id": "ee1454e5",
   "metadata": {},
   "source": [
    "Checkerboard Pattern"
   ]
  },
  {
   "cell_type": "code",
   "execution_count": null,
   "id": "d5cb84df",
   "metadata": {},
   "outputs": [],
   "source": [
    "def checkerboard_pattern(nx, ny, num_waves=4):\n",
    "    x, y = np.linspace(0, 1, nx), np.linspace(0, 1, ny)\n",
    "    X, Y = np.meshgrid(x, y, indexing='ij')\n",
    "    u0 = np.zeros((nx, ny))\n",
    "    for _ in range(np.random.randint(1, num_waves + 1)):\n",
    "        fx, fy = np.random.randint(1, 10, size=2)\n",
    "        phase = np.random.rand() * 2 * np.pi\n",
    "        amp = np.random.rand() * 2.5\n",
    "        u0 += amp * np.sin(2 * np.pi * fx * X + phase) * np.sin(2 * np.pi * fy * Y + phase)\n",
    "    return u0"
   ]
  },
  {
   "cell_type": "markdown",
   "id": "cc6cac9b",
   "metadata": {},
   "source": [
    "Spotty Noise"
   ]
  },
  {
   "cell_type": "code",
   "execution_count": null,
   "id": "f78c2169",
   "metadata": {},
   "outputs": [],
   "source": [
    "def spotty_noise(nx, ny, num_spots=100, smooth_sigma=1.5):\n",
    "    u0 = np.zeros((nx, ny))\n",
    "    for _ in range(num_spots):\n",
    "        i = np.random.randint(0, nx)\n",
    "        j = np.random.randint(0, ny)\n",
    "        u0[i, j] = np.random.rand() * 2.5\n",
    "    return gaussian_filter(u0, sigma=smooth_sigma)"
   ]
  },
  {
   "cell_type": "markdown",
   "id": "07d3375b",
   "metadata": {},
   "source": [
    "Generate Initial Condition"
   ]
  },
  {
   "cell_type": "code",
   "execution_count": null,
   "id": "44759434",
   "metadata": {},
   "outputs": [],
   "source": [
    "def generate_initial_condition(nx, ny, mode='mixed'):\n",
    "    if mode == 'gaussian':\n",
    "        return random_gaussian_sum(nx, ny)\n",
    "    elif mode == 'checkerboard':\n",
    "        return checkerboard_pattern(nx, ny)\n",
    "    elif mode == 'spotty':\n",
    "        return spotty_noise(nx, ny)\n",
    "    elif mode == 'mixed':\n",
    "        u_gaussian = random_gaussian_sum(nx, ny)\n",
    "        u_checkerboard = checkerboard_pattern(nx, ny)\n",
    "        u_spotty = spotty_noise(nx, ny)\n",
    "        return (u_gaussian + u_checkerboard + u_spotty) / 3\n",
    "    elif mode == 'random':\n",
    "        pattern = np.random.choice(['gaussian', 'checkerboard', 'spotty']) \n",
    "        return generate_initial_condition(nx, ny, mode=pattern)\n",
    "    else:\n",
    "        raise ValueError(f\"Invalid mode: {mode}\")"
   ]
  },
  {
   "cell_type": "markdown",
   "id": "89e9406e",
   "metadata": {},
   "source": [
    "Generate Trajectory of Solutions"
   ]
  },
  {
   "cell_type": "code",
   "execution_count": null,
   "id": "b93d05df",
   "metadata": {},
   "outputs": [],
   "source": [
    "# === Generate a trajectory of solutions ===\n",
    "\n",
    "def generate_trajectory(nx, ny, dx, dy, dt, alpha, t_interval, n_frames, mode='mixed'):\n",
    "    u = generate_initial_condition(nx, ny, mode=mode)\n",
    "    traj = [u.copy()]\n",
    "    steps_per_frame = t_interval // (n_frames - 1)\n",
    "    # add a small random constant to simulate some heat already in the system\n",
    "    # u += np.random.rand(nx, ny) + 1\n",
    "    \n",
    "    for _ in range(1, n_frames):\n",
    "        for _ in range(steps_per_frame):\n",
    "            lap = (\n",
    "                (np.roll(u, 1, axis=0) - 2*u + np.roll(u, -1, axis=0)) / dx**2 +\n",
    "                (np.roll(u, 1, axis=1) - 2*u + np.roll(u, -1, axis=1)) / dy**2\n",
    "            )\n",
    "\n",
    "            # u[0, :] = u[-1, :] = u[:, 0] = u[:, -1] = 0.0\n",
    "            u[0, :len(u)//2] = 0\n",
    "            u[0, len(u)//2 :] = 1.5\n",
    "            u[-1, :] = 1.5\n",
    "            u[:, 0] = 0.0\n",
    "            u[:, -1] = np.max(u)\n",
    "\n",
    "            u += alpha * dt * lap\n",
    "            \n",
    "\n",
    "        traj.append(u.copy())\n",
    "\n",
    "    return traj[0], np.stack(traj)  # shape: (nx, ny), (T, nx, ny)"
   ]
  },
  {
   "cell_type": "markdown",
   "id": "ccfe48e8",
   "metadata": {},
   "source": [
    "Save Dataset"
   ]
  },
  {
   "cell_type": "code",
   "execution_count": null,
   "id": "68372719",
   "metadata": {},
   "outputs": [],
   "source": [
    "# === Generate and save full dataset ===\n",
    "\n",
    "def save_dataset(u0_tensor, uT_tensor, save_dir='heat_trajectory_data'):\n",
    "    os.makedirs(save_dir, exist_ok=True)\n",
    "    torch.save(u0_tensor, os.path.join(save_dir, 'u0.pt'))\n",
    "    torch.save(uT_tensor, os.path.join(save_dir, 'uT.pt'))\n",
    "    print(f\"Saved tensors to '{save_dir}/u0.pt' and 'uT.pt'\")"
   ]
  },
  {
   "cell_type": "markdown",
   "id": "488bcb52",
   "metadata": {},
   "source": [
    "Set Parameters"
   ]
  },
  {
   "cell_type": "code",
   "execution_count": null,
   "id": "f6ba4464",
   "metadata": {},
   "outputs": [],
   "source": [
    "# === Parameters ===\n",
    "\n",
    "N = 1000\n",
    "nx, ny = 64, 64\n",
    "dx = 1.0 / (nx - 1)\n",
    "dy = 1.0 / (ny - 1)\n",
    "dt = 0.01\n",
    "t_interval = 1000\n",
    "T = 20\n",
    "\n",
    "alpha = 0.001\n",
    "\n",
    "u0_all, traj_all = [], []\n",
    "for _ in tqdm(range(N), desc=\"Generating dataset\"):\n",
    "    u0, traj = generate_trajectory(nx, ny, dx, dy, dt, alpha, t_interval, T, mode='mixed')\n",
    "    u0_all.append(u0)\n",
    "    traj_all.append(traj)\n",
    "\n",
    "u0_tensor = torch.tensor(np.stack(u0_all)[:, None, :, :], dtype=torch.float32)         # (N, 1, nx, ny)\n",
    "uT_tensor = torch.tensor(np.stack(traj_all), dtype=torch.float32)                     # (N, T, nx, ny)\n",
    "\n",
    "save_dataset(u0_tensor, uT_tensor)"
   ]
  }
 ],
 "metadata": {
  "kernelspec": {
   "display_name": ".venv",
   "language": "python",
   "name": "python3"
  },
  "language_info": {
   "name": "python",
   "version": "3.12.4"
  }
 },
 "nbformat": 4,
 "nbformat_minor": 5
}
